{
  "nbformat": 4,
  "nbformat_minor": 0,
  "metadata": {
    "colab": {
      "provenance": [],
      "authorship_tag": "ABX9TyNnHbh8jfF3LrcjUMIVuIzt",
      "include_colab_link": true
    },
    "kernelspec": {
      "name": "python3",
      "display_name": "Python 3"
    },
    "language_info": {
      "name": "python"
    }
  },
  "cells": [
    {
      "cell_type": "markdown",
      "metadata": {
        "id": "view-in-github",
        "colab_type": "text"
      },
      "source": [
        "<a href=\"https://colab.research.google.com/github/A-wagstaff/CapU-Comp/blob/main/COMP215/labs/Lab3_neo.ipynb\" target=\"_parent\"><img src=\"https://colab.research.google.com/assets/colab-badge.svg\" alt=\"Open In Colab\"/></a>"
      ]
    },
    {
      "cell_type": "markdown",
      "source": [
        "COMP 215 - LAB 3 (NEO)\n",
        "----------------\n",
        "#### Name: Alex Wagstaff\n",
        "#### Date: January 2023\n",
        "\n",
        "This lab exercise is focused on classes and objects.\n",
        "\n",
        "**Building on lab 2, and focusing on classes and objects**:\n",
        "  * `datetime.date` objects represent a calendar date\n",
        "  * *list comprehension* provides a compact way to represent map and filter algorithmsply imports all the modules we'll be using..."
      ],
      "metadata": {
        "id": "nbRPZPKZU5Pk"
      }
    },
    {
      "cell_type": "code",
      "execution_count": null,
      "outputs": [],
      "source": [
        "import datetime, json, requests\n",
        "from pprint import pprint    # Pretty Print - built-in python function to nicely format data structures"
      ],
      "metadata": {
        "pycharm": {
          "name": "#%%\n"
        },
        "id": "QbPvpe3FFgXS"
      }
    },
    {
      "cell_type": "markdown",
      "source": [
        "We'll answer some questions about [Near Earth Objects](https://cneos.jpl.nasa.gov/)\n",
        "> using NASA's API:  [https://api.nasa.gov/](https://api.nasa.gov/#NeoWS)\n",
        "\n",
        "You should register for your own API key, (but may use the DEMO_KEY to get started).\n",
        "\n",
        "First we need a short tutorial on python dates and [f-strings](https://realpython.com/python-f-strings/)..."
      ],
      "metadata": {
        "collapsed": false,
        "pycharm": {
          "name": "#%% md\n"
        },
        "id": "MMtoiokVFgXT"
      }
    },
    {
      "cell_type": "code",
      "execution_count": null,
      "outputs": [
        {
          "output_type": "stream",
          "name": "stdout",
          "text": [
            "2023-01-19 <class 'datetime.date'>\n",
            "Today is: 19-01-23\n"
          ]
        }
      ],
      "source": [
        "today = datetime.date.today()   # get a date object representing today's date\n",
        "print(today, type(today))\n",
        "today = today.strftime('%d-%m-%y')\n",
        "formatted_date = f'Today is: {today}'   # A format string - notice how the variable `today` is formatted into the stringg\n",
        "print(formatted_date)"
      ],
      "metadata": {
        "pycharm": {
          "name": "#%%\n"
        },
        "colab": {
          "base_uri": "https://localhost:8080/"
        },
        "id": "CYo6Td12FgXU",
        "outputId": "cec5b2b2-d9fe-4f43-840a-e5387cf96c72"
      }
    },
    {
      "cell_type": "markdown",
      "source": [
        "### Make a query\n",
        "\n",
        "Let's get some data from the NEO database...\n",
        "Here's a query that gets the observation \"feed\" for today.\n",
        "(Note: I hard-coded the date below to lock down the data for the lab - ideally used `today()` so the notebook is always up-to-date.)"
      ],
      "metadata": {
        "collapsed": false,
        "pycharm": {
          "name": "#%% md\n"
        },
        "id": "sZo6vW37FgXV"
      }
    },
    {
      "cell_type": "code",
      "execution_count": null,
      "outputs": [
        {
          "output_type": "stream",
          "name": "stdout",
          "text": [
            "9 Near Earth Objects found for 2023-01-19\n"
          ]
        }
      ],
      "source": [
        "API_KEY = 'cx8zWYh0hvtVWndBCqI5Dfscy7S5Bbv2QLAjqLhP'  # substitute your API key here\n",
        "\n",
        "today = str(datetime.date.today())  #  Future enhancement:  str(datetime.date.today())   # Today's date as a string!\n",
        "# Use an f-string here to \"format\" the date and API key varaibles.\n",
        "url = f'https://api.nasa.gov/neo/rest/v1/feed?start_date={today}&end_date={today}&api_key={API_KEY}'\n",
        "\n",
        "response = requests.request(\"GET\", url, headers={}, data={})\n",
        "\n",
        "data = json.loads(response.text)  # recall json.loads for lab 1\n",
        "\n",
        "# TIP: print(data) to see the whole data structure returned, here we grab just the list of NEO's:\n",
        "n_results = data['element_count']\n",
        "neos = data['near_earth_objects'][today]\n",
        "print(f'{n_results} Near Earth Objects found for {today}')\n",
        "# pprint(neos) # Was using these to figure out data structure"
      ],
      "metadata": {
        "pycharm": {
          "name": "#%%\n"
        },
        "colab": {
          "base_uri": "https://localhost:8080/"
        },
        "id": "qIf0jyX1FgXV",
        "outputId": "5256e1e0-4723-4e46-9b92-2eb7881c506d"
      }
    },
    {
      "cell_type": "markdown",
      "source": [
        "Next we extract just the potentially hazerdous asteroids, using a Comp115-style list accumulator *loop*:"
      ],
      "metadata": {
        "collapsed": false,
        "pycharm": {
          "name": "#%% md\n"
        },
        "id": "2klbusrYFgXW"
      }
    },
    {
      "cell_type": "code",
      "execution_count": null,
      "metadata": {
        "id": "JDGbYTySU3BP",
        "colab": {
          "base_uri": "https://localhost:8080/"
        },
        "outputId": "4174d9fb-b91f-4265-d8a8-74b2e40b724a"
      },
      "outputs": [
        {
          "output_type": "stream",
          "name": "stdout",
          "text": [
            "2 potentially hazardous asteroids identified.\n"
          ]
        }
      ],
      "source": [
        "hazards =  []\n",
        "for item in neos:\n",
        "  if item['is_potentially_hazardous_asteroid'] is True:\n",
        "    hazards.append(item)\n",
        "print(f'{len(hazards)} potentially hazardous asteroids identified.')"
      ]
    },
    {
      "cell_type": "markdown",
      "source": [
        "## Exercise 1\n",
        "\n",
        "In the code cell below, **re-write the accumulator loop above** as a [list comprehension](https://realpython.com/lessons/list-comprehensions-overview/) that implements a [\"filter\"](https://youtu.be/hUes6y2b--0)\n",
        "Notice how this provides a concise way to \"filter\" items of interest from a larger data set."
      ],
      "metadata": {
        "collapsed": false,
        "pycharm": {
          "name": "#%% md\n"
        },
        "id": "NzS4TAPVFgXX"
      }
    },
    {
      "cell_type": "code",
      "execution_count": null,
      "outputs": [
        {
          "output_type": "stream",
          "name": "stdout",
          "text": [
            "2 potentially hazardous asteroids identified.\n"
          ]
        }
      ],
      "source": [
        "hazards = [item for item in neos if item['is_potentially_hazardous_asteroid'] is True]\n",
        "print(f'{len(hazards)} potentially hazardous asteroids identified.')\n",
        "# pprint(hazards) # once again to check data structure"
      ],
      "metadata": {
        "pycharm": {
          "name": "#%%\n"
        },
        "id": "bB5k-0oVFgXY",
        "outputId": "519d63a0-960f-45c1-963d-500f3cba7099",
        "colab": {
          "base_uri": "https://localhost:8080/"
        }
      }
    },
    {
      "cell_type": "markdown",
      "source": [
        "## Fetch Complete Data for One Asteroid\n",
        "\n",
        "Notice that the record for each `neo` is a dictionary with `id` field that uniquely identifies this record in the database.\n",
        "\n",
        "We can use this `id` to fetch complete orbital and close approach data for the NEO.\n",
        "\n",
        "For example, this query fetches the complete data set for the first hazardous asteroid...\n"
      ],
      "metadata": {
        "collapsed": false,
        "pycharm": {
          "name": "#%% md\n"
        },
        "id": "_AAAOZpFFgXY"
      }
    },
    {
      "cell_type": "code",
      "execution_count": null,
      "outputs": [],
      "source": [
        "id = hazards[0]['id']\n",
        "# id = 2002212 #Static id assigned to use as test case so that data isn't dependent on exercise 1, uncomment line if exercise1 finds 0 hazards\n",
        "url = f'https://api.nasa.gov/neo/rest/v1/neo/{id}/?api_key={API_KEY}'\n",
        "response = requests.request(\"GET\", url, headers={}, data={})\n",
        "data = json.loads(response.text)\n",
        "# pprint(data) # Used for manual data check "
      ],
      "metadata": {
        "pycharm": {
          "name": "#%%\n"
        },
        "id": "hFlI372FFgXZ"
      }
    },
    {
      "cell_type": "markdown",
      "source": [
        "Notice that the `miss_distance` field contains the distance (in various units) by which the NEO missed an \"orbiting body\".\n",
        "\n",
        "## Exercise 2\n",
        "\n",
        "In the code cell below, write a python function that takes a list of \"close approach data\" as a parameter,\n",
        "and returns a 2-tuple with the (date, miss km) of the closest approach to Earth in the list (where \"miss km\" is the miss distance in km).\n",
        "\n",
        "Hints:\n",
        "* notice the input is a list of dictionaries.  Each dictionary has a 'close_approach_date\", \"orbiting_body\", and 'miss_distance' field.\n",
        "* we are only interested in the closest approach to \"Earth\"\n",
        "* use a loop if that is easier to understand - we will look at more compact algorithms to solve this problem in class.\n",
        "\n",
        "Add at least one unit test to check your work - note the test data only needs dictionaries with the fields your function actually uses.\n"
      ],
      "metadata": {
        "id": "DNRs7ynOYwYk"
      }
    },
    {
      "cell_type": "code",
      "source": [
        "from typing import ItemsView\n",
        "from IPython.core.interactiveshell import InteractiveShellABC\n",
        "data_ex2 = data #Example if all neos returned possess a False value for is_potentially_hazardous_asteroid\n",
        "close_approach = [item for item in data_ex2['close_approach_data'] if item['orbiting_body'] == 'Earth'] \n",
        "close_approach_date = [item['close_approach_date'] for item in close_approach]\n",
        "miss_distance = [float(item['miss_distance']['kilometers']) for item in close_approach]\n",
        "miss_dates = sorted(list(zip(miss_distance,close_approach_date)))\n",
        "print(f'The closest approach of NEO {id} occurs on {miss_dates[0][1]}, where it will come within {round(miss_dates[0][0])}km of Earth')#Not sure if this is required but looks better than a raw tuple\n",
        "print(miss_dates[0]) #Raw tuple in case that is what you want"
      ],
      "metadata": {
        "id": "tiyXTDfnZAd0",
        "outputId": "cbf10edb-0316-45ed-d9c2-901950242daf",
        "colab": {
          "base_uri": "https://localhost:8080/"
        }
      },
      "execution_count": null,
      "outputs": [
        {
          "output_type": "stream",
          "name": "stdout",
          "text": [
            "The closest approach of NEO 2509352 occurs on 1919-01-04, where it will come within 750820km of Earth\n",
            "(750819.996016779, '1919-01-04')\n"
          ]
        }
      ]
    },
    {
      "cell_type": "markdown",
      "source": [
        "## OPTIONAL - Take your skills to the next level...\n",
        "## Exercise 3\n",
        "\n",
        "In the code cell below, write a complete program that:\n",
        " 1. fetches the list of NEO's for this week.\n",
        " 2. for each NEO, fetch it's complete orbital data and determine its closest approach to Earth\n",
        " 3. identify which NEO from this week's data makes the closet approach to earth\n",
        " 4. print a nice message with information about the NEO, which it will approach the Earth, and how close it will come.\n",
        "\n",
        "Hints:\n",
        "* you'll need the start and end date - end date is today, see if you can use a [`timedelta`](https://docs.python.org/3/library/datetime.html#timedelta-objects) object to ge the start date (you can do basic \"date math\" with `timedelta` and `date` objects!)\n",
        "* you may need to modify the function we wrote in Ex. 2 to return a triple with the NEO's id included;\n",
        "* lots of opportunity here for more practice with list comprehensions\n"
      ],
      "metadata": {
        "collapsed": false,
        "id": "4zvbo3URFgXa"
      }
    },
    {
      "cell_type": "code",
      "source": [
        "from datetime import timedelta\n",
        "delta = timedelta(days = 1)\n",
        "date1 = datetime.date.today()\n",
        "date2 = (date1-(7*delta))\n",
        "url = f'https://api.nasa.gov/neo/rest/v1/feed?start_date={date2}&end_date={date1}&api_key={API_KEY}'\n",
        "#Copied from earlier in lab for ease\n",
        "response = requests.request(\"GET\", url, headers={}, data={})\n",
        "data3 = json.loads(response.text) #data3 because exercise3, wanted it independant so that I could auto complete easier. I know that it isn't best practice but this involved a lot of trial and error.\n",
        "#Data is now results for past week\n",
        "n_results = data3['element_count']\n",
        "print(f'{n_results} Near Earth Objects found for the past week') #Just to make sure that data is updated.\n",
        "data3_neos = [data3['near_earth_objects'][str(date2+(n*delta))] for n in range(8)]\n",
        "data3_neos2 = [item for n in range(len(data3_neos)) for item in data3_neos[n]]\n",
        "data3_cad = [item['close_approach_data'] for item in data3_neos2]\n",
        "data3_dates = [item['close_approach_date'] for n in range(len(data3_cad)) for item in data3_cad[n] ]\n",
        "data3_approach = [float(item['miss_distance']['kilometers']) for n in range(len(data3_cad)) for item in data3_cad[n]]\n",
        "data3_id = [item['id'] for item in data3_neos2]\n",
        "data3_diam = [float(item['estimated_diameter']['meters']['estimated_diameter_max']) for item in data3_neos2]\n",
        "data3_min = sorted(list(zip(data3_approach,data3_dates,data3_id,data3_diam)))\n",
        "print(f'The closest approach for this past week will be by NEO{data3_min[0][2]}. This approach happens on {data3_min[0][1]}, where it will come within approximately {round(data3_min[0][0])}km of Earth.')\n",
        "print(f'NEO {data3_min[0][2]} is approximately {round(data3_min[0][3],2)}m in diameter.')\n",
        "# This took me about 10 hours to do. Does this mean that I am doomed? I also managed to pull 5000+ lines of data out of ~2100 lines while testing."
      ],
      "metadata": {
        "id": "Ds1YevErlzCe",
        "pycharm": {
          "name": "#%%\n"
        },
        "colab": {
          "base_uri": "https://localhost:8080/"
        },
        "outputId": "8bbfebdd-c974-49f5-cd13-bbfded576d99"
      },
      "execution_count": null,
      "outputs": [
        {
          "output_type": "stream",
          "name": "stdout",
          "text": [
            "78 Near Earth Objects found for the past week\n",
            "The closest approach for this past week will be by NEO3673267. This approach happens on 2023-01-14, where it will come within approximately 1819585km of Earth.\n",
            "NEO 3673267 is approximately 11.75m in diameter.\n"
          ]
        }
      ]
    }
  ]
}